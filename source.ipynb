{
 "cells": [
  {
   "attachments": {},
   "cell_type": "markdown",
   "metadata": {},
   "source": [
    "# {Teen Pregnancy and Sex Education in the US}📝\n",
    "\n",
    "![Banner](./assets/banner.jpeg)"
   ]
  },
  {
   "attachments": {},
   "cell_type": "markdown",
   "metadata": {},
   "source": [
    "## Topic\n",
    "*What problem are you (or your stakeholder) trying to address?*\n",
    "📝 <!-- Answer Below -->\n",
    "\n",
    "I am addressing the problem of teen pregnancy in the United States and examining if and how it relates to a lack of sex education. "
   ]
  },
  {
   "attachments": {},
   "cell_type": "markdown",
   "metadata": {},
   "source": [
    "## Project Question\n",
    "*What specific question are you seeking to answer with this project?*\n",
    "*This is not the same as the questions you ask to limit the scope of the project.*\n",
    "📝 <!-- Answer Below -->\n",
    "\n",
    "The specific question I am seeking to answer with this project is: \"Is there a correlation between lack of sex education and increased teen pregnancy?\""
   ]
  },
  {
   "attachments": {},
   "cell_type": "markdown",
   "metadata": {},
   "source": [
    "## What would an answer look like?\n",
    "*What is your hypothesized answer to your question?*\n",
    "📝 <!-- Answer Below -->\n",
    "\n",
    "An answer could be expressed with a visualization such as a table or a bar chart showcasing the states with the highest and lowest teen pregnancy numbers, their overall population, and  their policies surrounding sex education. \n",
    "\n",
    "The answer itself would be: \"Yes/No, there is/isn't strong evidence to suggest increased teen pregnancy directly correlates to a lack of sex education.\" "
   ]
  },
  {
   "attachments": {},
   "cell_type": "markdown",
   "metadata": {},
   "source": [
    "## Data Sources\n",
    "*What 3 data sources have you identified for this project?*\n",
    "*How are you going to relate these datasets?*\n",
    "📝 <!-- Answer Below -->\n",
    "\n",
    "My datasets are:\n",
    "- CDC Wonder (https://wonder.cdc.gov/controller/datarequest/D149;jsessionid=C8DCABB90CDF366055F96EA1D525 and https://wonder.cdc.gov/controller/datarequest/D192;jsessionid=70DEF061E23E358712E1506B71DF). This is a query based data source that allows you to view birth rates with different filters. I have imported the 2016-2024 and 2024-2025 natality datasets. \n",
    "\n",
    "- The United States Census (https://data.census.gov/table?q=teen+population+by+state&y=2024). This is united states census data filtered to focus on teens aged 15-19. \n",
    "\n",
    "- Parents Defending Education: Sex Education Laws By State (https://actionpde.org/sex-education-laws-by-state/). This is a website showcasing sex education laws by state. I have downloaded the website data as a PDF and extracted the raw text using pdfplumber. \n",
    "\n",
    "I will relate these datasets by state. When applicable, I will also use year, \"Mandate Sex Ed\" (Sex Education Laws By State), and age. "
   ]
  },
  {
   "attachments": {},
   "cell_type": "markdown",
   "metadata": {},
   "source": [
    "## Approach and Analysis\n",
    "*What is your approach to answering your project question?*\n",
    "*How will you use the identified data to answer your project question?*\n",
    "📝 <!-- Start Discussing the project here; you can add as many code cells as you need -->\n",
    "\n",
    "My approach will be to:\n",
    "- Calculate the average and raw teen pregnancy rate per state using census population numbers and CDC natality data. \n",
    "\n",
    "- Extract data from the Sex Education Laws by State site and convert it into a usable table, including whether sex education is required and how comprehensive it is. \n",
    "\n",
    "- Connect datasets by year and when applicable \"Mandata Sex Ed\" and/or age. \n",
    "\n",
    "- Explore visualizations to illustrate the data and results. "
   ]
  },
  {
   "cell_type": "code",
   "execution_count": 5,
   "metadata": {},
   "outputs": [],
   "source": [
    "# Start your code here\n",
    "import pandas as pd\n",
    "import matplotlib.pyplot as plt\n",
    "import seaborn as sns\n",
    "import matplotlib.pyplot as plt\n",
    "import pdfplumber\n",
    "\n",
    "\n",
    "# Importing my sources: \n",
    "\n",
    "#Census data: \n",
    "census = pd.read_csv(\"ACSST1Y2024.S0902-2025-09-28T050122.csv\")\n",
    "#Birth data from 2016-2024\n",
    "BirthData20162024 = pd.read_csv(\"Natality, 2016-2024 expanded.csv\")\n",
    "#Birth data from 2023 to July 2025\n",
    "BirthData2025 = pd.read_csv(\"Provisional Natality, 2023 through Last Month.csv\")\n",
    "\n",
    "#Using pdfplumber to extract text from PDE-Action_-Sex-Education-State-Laws_v2-1.pdf, which will later be used to create a dataframe\n",
    "#First extracting the first page as a test\n",
    "with pdfplumber.open(\"PDE-Action_-Sex-Education-State-Laws_v2-1.pdf\") as pdf:\n",
    "    first_page = pdf.pages[0]\n",
    "    pdf_text = first_page.extract_text()\n",
    "#Extracting the full text from the PDF, 12 pages, as pdf_full_text\n",
    "    pdf_full_text = \"\"\n",
    "    for page in pdf.pages:\n",
    "        pdf_full_text += page.extract_text() + \"\\n\""
   ]
  },
  {
   "cell_type": "code",
   "execution_count": null,
   "metadata": {},
   "outputs": [],
   "source": [
    "#Configuring the PDF into usable data. This is going to be done by splitting the raw text into lines,\n",
    "#then parsing each line for relevant data points such as state, Q1 - Mandate SexEd.?, Q2 - Opt-Out/Opt-In Policy?, and Notify parents.\n",
    "\n",
    "# print(pdf_full_text)\n",
    "pdf_lines = pdf_full_text.split(\"\\n\")\n",
    "#Using regular expressions to look for states that are abbreviayed with capital letters such as KY, CA, TX, etc. \n",
    "#Lines of text are formatted as: State Abbreviation, Q1 answer, Statute, Q2 answer, Statute, Notify Parents answer.\n",
    "#The statues aren't needed for visualizations, so I'm skipping over them. \n",
    "import re\n",
    "import pandas as pd\n",
    "#Function to get my states\n",
    "state_pattern = re.compile(r'^[A-Z]{2}\\b')\n",
    "data = []\n",
    "for line in pdf_lines:\n",
    "    parts = line.split()\n",
    "    if len(parts) >= 6 and state_pattern.match(parts[0]):\n",
    "        state = parts[0] #First column, State\n",
    "        q1Mandate = parts[1] #Second column, Q1\n",
    "        q2Opt = parts[3] #Third column, Q2\n",
    "        notify = parts[5] #Fifth column, notify parents\n",
    "        data.append({\n",
    "            \"State\": state,\n",
    "            \"Mandate SexEd\": q1Mandate,\n",
    "            \"Opt-Out/Opt-In Policy\": q2Opt,\n",
    "            \"Notify Parents\": notify\n",
    "        })\n",
    "#The next step is to break down the answers of the questions into basic \"Yes, No, or Partial\" For Q1 and\n",
    "#\"Yes or No\" for Q2 and Notify Parents. Categorizing data based on whether it contains yes, no, or partial. \n",
    "def categorize_answer(answer):\n",
    "    answer = answer.lower()\n",
    "    if \"yes\" in answer:\n",
    "        return \"Yes\"\n",
    "    elif \"no\" in answer:\n",
    "        return \"No\"\n",
    "    elif \"partial\" in answer:\n",
    "        return \"Partial\"\n",
    "    else:\n",
    "        return \"Unknown\"\n",
    "    \n",
    "#Putting everything into a pandas datafame\n",
    "StateLawsDF = pd.DataFrame(data)\n",
    "StateLawsDF[\"Mandate SexEd\"] = StateLawsDF[\"Mandate SexEd\"].apply(categorize_answer)\n",
    "StateLawsDF[\"Opt-Out/Opt-In Policy\"] = StateLawsDF[\"Opt-Out/Opt-In Policy\"].apply(categorize_answer)\n",
    "StateLawsDF[\"Notify Parents\"] = StateLawsDF[\"Notify Parents\"].apply(categorize_answer)\n"
   ]
  },
  {
   "attachments": {},
   "cell_type": "markdown",
   "metadata": {},
   "source": [
    "## Resources and References\n",
    "*What resources and references have you used for this project?*\n",
    "📝 <!-- Answer Below -->\n",
    "\n",
    "Resourced used: \n",
    "- https://wonder.cdc.gov/\n",
    "- https://data.census.gov/\n",
    "- https://actionpde.org/sex-education-laws-by-state/\n",
    "- https://www.pdfplumber.com/\n",
    "- https://www.cdc.gov/nchs/state-stats/births/teen-births.html"
   ]
  },
  {
   "cell_type": "code",
   "execution_count": 4,
   "metadata": {},
   "outputs": [
    {
     "name": "stderr",
     "output_type": "stream",
     "text": [
      "[NbConvertApp] Converting notebook source.ipynb to python\n",
      "[NbConvertApp] Writing 4137 bytes to source.py\n"
     ]
    }
   ],
   "source": [
    "# ⚠️ Make sure you run this cell at the end of your notebook before every submission!\n",
    "!jupyter nbconvert --to python source.ipynb"
   ]
  }
 ],
 "metadata": {
  "kernelspec": {
   "display_name": "Python 3",
   "language": "python",
   "name": "python3"
  },
  "language_info": {
   "codemirror_mode": {
    "name": "ipython",
    "version": 3
   },
   "file_extension": ".py",
   "mimetype": "text/x-python",
   "name": "python",
   "nbconvert_exporter": "python",
   "pygments_lexer": "ipython3",
   "version": "3.13.5"
  },
  "orig_nbformat": 4
 },
 "nbformat": 4,
 "nbformat_minor": 2
}
