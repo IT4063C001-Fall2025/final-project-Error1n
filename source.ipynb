{
 "cells": [
  {
   "attachments": {},
   "cell_type": "markdown",
   "metadata": {},
   "source": [
    "# {Teen Pregnancy and Sex Education in the US}📝\n",
    "\n",
    "![Banner](./assets/banner.jpeg)"
   ]
  },
  {
   "attachments": {},
   "cell_type": "markdown",
   "metadata": {},
   "source": [
    "## Topic\n",
    "*What problem are you (or your stakeholder) trying to address?*\n",
    "📝 <!-- Answer Below -->\n",
    "\n",
    "I am addressing the problem of teen pregnancy in the United States and examining if and how it relates to a lack of sex education. "
   ]
  },
  {
   "attachments": {},
   "cell_type": "markdown",
   "metadata": {},
   "source": [
    "## Project Question\n",
    "*What specific question are you seeking to answer with this project?*\n",
    "*This is not the same as the questions you ask to limit the scope of the project.*\n",
    "📝 <!-- Answer Below -->\n",
    "\n",
    "The specific question I am seeking to answer with this project is: \"Is there a correlation between lack of sex education and increased teen pregnancy?\""
   ]
  },
  {
   "attachments": {},
   "cell_type": "markdown",
   "metadata": {},
   "source": [
    "## What would an answer look like?\n",
    "*What is your hypothesized answer to your question?*\n",
    "📝 <!-- Answer Below -->\n",
    "\n",
    "An answer could be expressed with a visualization such as a table or a bar chart showcasing the states with the highest and lowest teen pregnancy numbers, their overall population, and  their policies surrounding sex education. \n",
    "\n",
    "The answer itself would be: \"Yes/No, there is/isn't strong evidence to suggest increased teen pregnancy directly correlates to a lack of sex education.\" "
   ]
  },
  {
   "attachments": {},
   "cell_type": "markdown",
   "metadata": {},
   "source": [
    "## Data Sources\n",
    "*What 3 data sources have you identified for this project?*\n",
    "*How are you going to relate these datasets?*\n",
    "📝 <!-- Answer Below -->\n",
    "\n",
    "My datasets are:\n",
    "- CDC Wonder (https://wonder.cdc.gov/controller/datarequest/D149;jsessionid=C8DCABB90CDF366055F96EA1D525 and https://wonder.cdc.gov/controller/datarequest/D192;jsessionid=70DEF061E23E358712E1506B71DF). This is a query based data source that allows you to view birth rates with different filters. I have imported the 2016-2024 and 2024-2025 natality datasets. \n",
    "\n",
    "- The United States Census (https://data.census.gov/table?q=teen+population+by+state&y=2024). This is united states census data filtered to focus on teens aged 15-19. \n",
    "\n",
    "- Parents Defending Education: Sex Education Laws By State (https://actionpde.org/sex-education-laws-by-state/). This is a website showcasing sex education laws by state. I have downloaded the website data as a PDF and extracted the raw text using pdfplumber. \n",
    "\n",
    "I will relate these datasets by state. When applicable, I will also use year, \"Mandate Sex Ed\" (Sex Education Laws By State), and age. "
   ]
  },
  {
   "attachments": {},
   "cell_type": "markdown",
   "metadata": {},
   "source": [
    "## Approach and Analysis\n",
    "*What is your approach to answering your project question?*\n",
    "*How will you use the identified data to answer your project question?*\n",
    "📝 <!-- Start Discussing the project here; you can add as many code cells as you need -->\n",
    "\n",
    "My approach will be to:\n",
    "- Calculate the average and raw teen pregnancy rate per state using census population numbers and CDC natality data. \n",
    "\n",
    "- Extract data from the Sex Education Laws by State site and convert it into a usable table, including whether sex education is required and how comprehensive it is. \n",
    "\n",
    "- Connect datasets by year and when applicable \"Mandata Sex Ed\" and/or age. \n",
    "\n",
    "- Explore visualizations to illustrate the data and results. "
   ]
  },
  {
   "cell_type": "code",
   "execution_count": null,
   "metadata": {},
   "outputs": [],
   "source": [
    "# Start your code here\n",
    "import pandas as pd\n",
    "import matplotlib.pyplot as plt\n",
    "import seaborn as sns\n",
    "import matplotlib.pyplot as plt\n",
    "import pdfplumber\n",
    "\n",
    "\n",
    "# Importing my sources: \n",
    "\n",
    "#Census data: \n",
    "census = pd.read_csv(\"ACSST1Y2024.S0902-2025-09-28T050122.csv\")\n",
    "#Birth data from 2016-2024\n",
    "BirthData20162024 = pd.read_csv(\"Natality, 2016-2024 expanded-2.csv\")\n",
    "#Birth data from 2023 to July 2025\n",
    "BirthData2025 = pd.read_csv(\"Provisional Natality, 2023 through Last Month.csv\")\n",
    "\n",
    "#Using pdfplumber to extract text from PDE-Action_-Sex-Education-State-Laws_v2-1.pdf, which will later be used to create a dataframe\n",
    "#First extracting the first page as a test\n",
    "with pdfplumber.open(\"PDE-Action_-Sex-Education-State-Laws_v2-1.pdf\") as pdf_v1:\n",
    "    pdf_full_text_v1 = \"\"\n",
    "    for page in pdf_v1.pages:\n",
    "            pdf_full_text_v1 += page.extract_text() + \"\\n\"\n",
    "with pdfplumber.open(\"PDE-Action_-Sex-Education-State-Laws_v2-3.pdf\") as pdf_v3:\n",
    "    pdf_full_text_v3 = \"\"\n",
    "    for page in pdf_v3.pages:\n",
    "            pdf_full_text_v3 += page.extract_text() + \"\\n\""
   ]
  },
  {
   "cell_type": "markdown",
   "metadata": {},
   "source": [
    "## Checkpoint 2: Exploratory Data Analysis & Visualization - Data Cleaning and Transformation\n",
    "\n",
    "- First, I configured the PDF into usable data. This was done by extracting the raw text from the PDF document, splitting the raw text into lines, then putting the answers to the questions I need into a dataframe. I'm working with a simplified version of the document that contains the answers to Q1 (Does the state mandate sex ed?) and Q2 (Does the state have an opt-in/opt-out policy?) to make the dataframe creation process quicker. This process may be changed later if I decided to add the answers to other questions on the document to my dataset. "
   ]
  },
  {
   "cell_type": "code",
   "execution_count": null,
   "metadata": {},
   "outputs": [],
   "source": [
    "#Configuring the PDF into usable data.\n",
    "import re\n",
    "import pandas as pd\n",
    "\n",
    "#Splitting my text into lines\n",
    "lines = pdf_full_text_v3.strip().split('\\n')\n",
    "if lines[0].lower().startswith(\"state\"):\n",
    "    lines = lines[1:]\n",
    "#Creating my dataframe\n",
    "data = [line.split(maxsplit=2) for line in lines if line.strip()]\n",
    "StateLawDF = pd.DataFrame(data, columns=[\"State\", \"Mandates Sex Ed?\", \"Opt-in/Opt-out Policy?\"])"
   ]
  },
  {
   "cell_type": "code",
   "execution_count": 16,
   "metadata": {},
   "outputs": [],
   "source": [
    "#Testing the PDF Dataframe\n",
    "#print(pdf_full_text_v3)\n",
    "#print(StateLawDF)\n",
    "#print(StateLawDF[\"Mandates Sex Ed?\"].value_counts())\n",
    "#print(StateLawDF[\"State\"].value_counts())"
   ]
  },
  {
   "cell_type": "code",
   "execution_count": null,
   "metadata": {},
   "outputs": [
    {
     "name": "stdout",
     "output_type": "stream",
     "text": [
      "    Age of Mother  Births State\n",
      "0  Under 15 years      49    AL\n",
      "1        15 years     137    AL\n",
      "2        16 years     251    AL\n",
      "3        17 years     528    AL\n",
      "4        18 years     905    AL\n"
     ]
    }
   ],
   "source": [
    "#Birth data from 2016-2024. Columns are State of Residence, Age of Mother, Births.\n",
    "#State will need to be abbeviated and \"State of Residence\" will be changed to \"State\"\n",
    "import pandas as pd\n",
    "BirthData20162024 = pd.read_csv(\"Natality, 2016-2024 expanded-2.csv\")\n",
    "\n",
    "#Cleaning the data: \n",
    "#1. State needs to be abbreviated from full name to two-letter postal code, so it will match the data in the state laws PDF. \n",
    "state_abbreviations = {\n",
    "    \"Alabama\": \"AL\",\n",
    "    \"Alaska\": \"AK\",\n",
    "    \"Arizona\": \"AZ\",\n",
    "    \"Arkansas\": \"AR\",\n",
    "    \"California\": \"CA\",\n",
    "    \"Colorado\": \"CO\",\n",
    "    \"Connecticut\": \"CT\",\n",
    "    \"Delaware\": \"DE\",\n",
    "    \"District of Columbia\": \"DC\",\n",
    "    \"Florida\": \"FL\",\n",
    "    \"Georgia\": \"GA\",\n",
    "    \"Hawaii\": \"HI\",\n",
    "    \"Idaho\": \"ID\",\n",
    "    \"Illinois\": \"IL\",\n",
    "    \"Indiana\": \"IN\",\n",
    "    \"Iowa\": \"IA\",\n",
    "    \"Kansas\": \"KS\",\n",
    "    \"Kentucky\": \"KY\",\n",
    "    \"Louisiana\": \"LA\",\n",
    "    \"Maine\": \"ME\",\n",
    "    \"Maryland\": \"MD\",\n",
    "    \"Massachusetts\": \"MA\",\n",
    "    \"Michigan\": \"MI\",\n",
    "    \"Minnesota\": \"MN\",\n",
    "    \"Mississippi\": \"MS\",\n",
    "    \"Missouri\": \"MO\",\n",
    "    \"Montana\": \"MT\",\n",
    "    \"Nebraska\": \"NE\",\n",
    "    \"Nevada\": \"NV\",\n",
    "    \"New Hampshire\": \"NH\",\n",
    "    \"New Jersey\": \"NJ\",\n",
    "    \"New Mexico\": \"NM\",\n",
    "    \"New York\": \"NY\",\n",
    "    \"North Carolina\": \"NC\",\n",
    "    \"North Dakota\": \"ND\",\n",
    "    \"Ohio\": \"OH\",\n",
    "    \"Oklahoma\": \"OK\",\n",
    "    \"Oregon\": \"OR\",\n",
    "    \"Pennsylvania\": \"PA\",\n",
    "    \"Rhode Island\": \"RI\",\n",
    "    \"South Carolina\": \"SC\",\n",
    "    \"South Dakota\": \"SD\",\n",
    "    \"Tennessee\": \"TN\",\n",
    "    \"Texas\": \"TX\",\n",
    "    \"Utah\": \"UT\",\n",
    "    \"Vermont\": \"VT\",\n",
    "    \"Virginia\": \"VA\",\n",
    "    \"Washington\": \"WA\",\n",
    "    \"West Virginia\": \"WV\",\n",
    "    \"Wisconsin\": \"WI\",\n",
    "    \"Wyoming\": \"WY\"\n",
    "}\n",
    "\n",
    "#Creating a pandas dataframe with state, age of mother, and births\n",
    "BirthData20162024 = pd.DataFrame(BirthData20162024, columns=[\"State of Residence\", \"Age of Mother\", \"Births\"])\n",
    "#Mapping the state names to abbreviations\n",
    "BirthData20162024[\"State Abbreviation\"] = BirthData20162024[\"State of Residence\"].map(state_abbreviations)\n",
    "#Dropping the original state name column\n",
    "BirthData20162024 = BirthData20162024.drop(columns=[\"State of Residence\"])\n",
    "#Renaming the new column to \"State\"\n",
    "BirthData20162024 = BirthData20162024.rename(columns={\"State Abbreviation\": \"State\"})\n",
    "print(BirthData20162024.head())"
   ]
  },
  {
   "cell_type": "code",
   "execution_count": null,
   "metadata": {},
   "outputs": [
    {
     "data": {
      "image/png": "[encoded data removed]",
      "text/plain": [
       "<Figure size 800x600 with 1 Axes>"
      ]
     },
     "metadata": {},
     "output_type": "display_data"
    }
   ],
   "source": [
    "#Visualization #1: Count of states (50 states + DC) mandating sex ed by answer (yes, no, partial)\n",
    "\n",
    "import matplotlib.pyplot as plt\n",
    "import seaborn as sns\n",
    "sns.set(style=\"whitegrid\")\n",
    "plt.figure(figsize=(8, 6))\n",
    "ax = sns.countplot(x=\"Mandates Sex Ed?\", data=StateLawDF)\n",
    "ax.set_title(\"Number of States Mandating Sex Education\")\n",
    "ax.set_xlabel(\"Mandates Sex Education?\")\n",
    "ax.set_ylabel(\"Number of States\")\n",
    "for p in ax.patches:\n",
    "    height = p.get_height()\n",
    "    ax.annotate(f'{height}', (p.get_x() + p.get_width() / 2., height),\n",
    "                ha='center', va='bottom')\n",
    "plt.show()"
   ]
  },
  {
   "attachments": {},
   "cell_type": "markdown",
   "metadata": {},
   "source": [
    "## Resources and References\n",
    "*What resources and references have you used for this project?*\n",
    "📝 <!-- Answer Below -->\n",
    "\n",
    "Resourced used: \n",
    "- https://wonder.cdc.gov/\n",
    "- https://data.census.gov/\n",
    "- https://actionpde.org/sex-education-laws-by-state/\n",
    "- https://www.pdfplumber.com/\n",
    "- https://www.cdc.gov/nchs/state-stats/births/teen-births.html"
   ]
  },
  {
   "cell_type": "code",
   "execution_count": 4,
   "metadata": {},
   "outputs": [
    {
     "name": "stderr",
     "output_type": "stream",
     "text": [
      "[NbConvertApp] Converting notebook source.ipynb to python\n",
      "[NbConvertApp] Writing 4137 bytes to source.py\n"
     ]
    }
   ],
   "source": [
    "# ⚠️ Make sure you run this cell at the end of your notebook before every submission!\n",
    "!jupyter nbconvert --to python source.ipynb"
   ]
  }
 ],
 "metadata": {
  "kernelspec": {
   "display_name": "Python 3",
   "language": "python",
   "name": "python3"
  },
  "language_info": {
   "codemirror_mode": {
    "name": "ipython",
    "version": 3
   },
   "file_extension": ".py",
   "mimetype": "text/x-python",
   "name": "python",
   "nbconvert_exporter": "python",
   "pygments_lexer": "ipython3",
   "version": "3.13.5"
  },
  "orig_nbformat": 4
 },
 "nbformat": 4,
 "nbformat_minor": 2
}
